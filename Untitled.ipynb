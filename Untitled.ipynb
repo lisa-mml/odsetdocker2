{
 "cells": [
  {
   "cell_type": "code",
   "execution_count": 1,
   "id": "1e06eda5",
   "metadata": {},
   "outputs": [],
   "source": [
    "import urllib"
   ]
  },
  {
   "cell_type": "code",
   "execution_count": 2,
   "id": "eb9b205a",
   "metadata": {},
   "outputs": [],
   "source": [
    "packs1=!pip list"
   ]
  },
  {
   "cell_type": "code",
   "execution_count": 3,
   "id": "0a9c7289",
   "metadata": {},
   "outputs": [],
   "source": [
    "import urllib.request"
   ]
  },
  {
   "cell_type": "code",
   "execution_count": 4,
   "id": "c3958c21",
   "metadata": {},
   "outputs": [],
   "source": [
    "packs2=!pip list"
   ]
  },
  {
   "cell_type": "code",
   "execution_count": 5,
   "id": "73827acf",
   "metadata": {},
   "outputs": [
    {
     "name": "stdout",
     "output_type": "stream",
     "text": [
      "[]\n"
     ]
    }
   ],
   "source": [
    "list_difference = []\n",
    "for item in packs1:\n",
    "  if item not in packs2:\n",
    "    list_difference.append(item)\n",
    "\n",
    "print(list_difference)"
   ]
  }
 ],
 "metadata": {
  "kernelspec": {
   "display_name": "Python 3",
   "language": "python",
   "name": "python3"
  },
  "language_info": {
   "codemirror_mode": {
    "name": "ipython",
    "version": 3
   },
   "file_extension": ".py",
   "mimetype": "text/x-python",
   "name": "python",
   "nbconvert_exporter": "python",
   "pygments_lexer": "ipython3",
   "version": "3.8.3"
  }
 },
 "nbformat": 4,
 "nbformat_minor": 5
}
